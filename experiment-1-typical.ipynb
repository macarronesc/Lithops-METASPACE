{
 "cells": [
  {
   "cell_type": "markdown",
   "metadata": {
    "pycharm": {
     "metadata": false
    }
   },
   "source": [
    "# Experiment 1: Typical use case\n",
    "\n",
    "This is representative of a normal use-case on METASPACE, which makes it suitable for head-to-head comparisons. \n",
    "There is often limited time available on the higher-spec PC used for initial data capture as it is a shared resource, \n",
    "so usually the analysis will be performed from scientists’ or students’ lower-spec laptops. \n",
    "This use-case demonstrates how Lithops enables computationally demanding process to be easily run using cloud computing resources.\n",
    "\n",
    "### METRICS TO BENCHMARK\n",
    "* Performance:\n",
    "    * **Metric:** Total processing time up to downloading the results dataframe\n",
    "    \n",
    "        **Goal:** Faster than serverful METASPACE (including or excluding cluster start time)\n",
    "\n",
    "    * **Metric:** Latency for retrieving all images of target ions.\n",
    "    \n",
    "        **Goal:** Similar to or faster than METASPACE’s python client\n",
    "\n",
    "* Capability:\n",
    "    * **Metric:** Peak memory usage on client.\n",
    "    \n",
    "        **Goal:** Capable of running on low-spec PC with 8GB ram, so ~6GB max usage\n",
    "\n",
    "* Cost:\n",
    "    * **Metric:** Cloud provider cost\n",
    "    \n",
    "        **Goal:** Similar price or cheaper than METASPACE (including or excluding cluster start time)\n",
    "\n",
    "    * **Metric:** Developer time\n",
    "    \n",
    "        **Goal:** Less annual time required to manage cloud infrastructure than METASPACE"
   ]
  },
  {
   "cell_type": "markdown",
   "metadata": {},
   "source": [
    "# Notebook setup\n",
    "Run `pip install -e .` in this directory to install all requirements for annotation pipeline project."
   ]
  },
  {
   "cell_type": "code",
   "execution_count": null,
   "metadata": {
    "ExecuteTime": {
     "end_time": "2021-01-28T11:39:25.410078Z",
     "start_time": "2021-01-28T11:39:25.347586Z"
    },
    "pycharm": {
     "metadata": false,
     "name": "#%%\n"
    }
   },
   "outputs": [],
   "source": [
    "# If Lithops isn't installed, please run `pip install -e .` in this directory\n",
    "import lithops\n",
    "lithops.__version__"
   ]
  },
  {
   "cell_type": "code",
   "execution_count": null,
   "metadata": {
    "ExecuteTime": {
     "end_time": "2021-01-28T11:39:25.423820Z",
     "start_time": "2021-01-28T11:39:25.416669Z"
    },
    "pycharm": {
     "metadata": false,
     "name": "#%%\n"
    }
   },
   "outputs": [],
   "source": [
    "import logging\n",
    "logging.basicConfig(level=logging.INFO)"
   ]
  },
  {
   "cell_type": "markdown",
   "metadata": {
    "pycharm": {
     "metadata": false
    }
   },
   "source": [
    "## Configuration"
   ]
  },
  {
   "cell_type": "code",
   "execution_count": null,
   "metadata": {
    "ExecuteTime": {
     "end_time": "2021-01-28T11:39:25.443320Z",
     "start_time": "2021-01-28T11:39:25.425014Z"
    },
    "pycharm": {
     "metadata": false,
     "name": "#%%\n"
    }
   },
   "outputs": [],
   "source": [
    "import json"
   ]
  },
  {
   "cell_type": "code",
   "execution_count": null,
   "metadata": {
    "ExecuteTime": {
     "end_time": "2021-01-28T11:39:25.467833Z",
     "start_time": "2021-01-28T11:39:25.449999Z"
    },
    "pycharm": {
     "metadata": false,
     "name": "#%%\n"
    }
   },
   "outputs": [],
   "source": [
    "# Select the input dataset and database (increase/decrease config number to increase/decrease job size)\n",
    "input_ds = json.load(open('metabolomics/ds_config2.json'))\n",
    "input_db = json.load(open('metabolomics/db_config2.json'))"
   ]
  },
  {
   "cell_type": "markdown",
   "metadata": {},
   "source": [
    "# Setup (Not included in benchmark timings)"
   ]
  },
  {
   "cell_type": "code",
   "execution_count": null,
   "metadata": {
    "ExecuteTime": {
     "end_time": "2021-01-28T11:50:35.571526Z",
     "start_time": "2021-01-28T11:42:14.913494Z"
    },
    "pycharm": {
     "name": "#%%\n"
    }
   },
   "outputs": [],
   "source": [
    "from annotation_pipeline.pipeline import Pipeline\n",
    "\n",
    "# Process database and pre-calculate centroids (not benchmarked because usually this step is cached)\n",
    "pipeline = Pipeline(input_ds, input_db, use_db_cache=True, use_ds_cache=False)\n",
    "pipeline(task='db')"
   ]
  },
  {
   "cell_type": "markdown",
   "metadata": {
    "pycharm": {
     "metadata": false
    }
   },
   "source": [
    "# Benchmark"
   ]
  },
  {
   "cell_type": "code",
   "execution_count": null,
   "metadata": {
    "ExecuteTime": {
     "end_time": "2021-01-28T11:55:21.091088Z",
     "start_time": "2021-01-28T11:55:21.033860Z"
    }
   },
   "outputs": [],
   "source": [
    "import os\n",
    "import psutil\n",
    "from datetime import datetime\n",
    "memory_usage_mb = psutil.Process(os.getpid()).memory_info().rss / 2**20\n",
    "print(f'Memory usage before: {memory_usage_mb:.0f}MB')"
   ]
  },
  {
   "cell_type": "markdown",
   "metadata": {
    "pycharm": {
     "metadata": false
    }
   },
   "source": [
    "### Run Annotation Pipeline"
   ]
  },
  {
   "cell_type": "code",
   "execution_count": null,
   "metadata": {
    "ExecuteTime": {
     "end_time": "2021-01-28T11:55:35.760282Z",
     "start_time": "2021-01-28T11:55:27.683235Z"
    }
   },
   "outputs": [],
   "source": [
    "start_time = datetime.now()\n",
    "pipeline(task='ds')\n",
    "results_df = pipeline.get_results()\n",
    "finish_time = datetime.now()"
   ]
  },
  {
   "cell_type": "code",
   "execution_count": null,
   "metadata": {
    "ExecuteTime": {
     "end_time": "2021-01-28T11:39:36.729967Z",
     "start_time": "2021-01-28T11:39:36.644014Z"
    }
   },
   "outputs": [],
   "source": [
    "len(foo)"
   ]
  },
  {
   "cell_type": "code",
   "execution_count": null,
   "metadata": {
    "ExecuteTime": {
     "end_time": "2021-01-28T11:39:36.731083Z",
     "start_time": "2021-01-28T11:39:25.365Z"
    }
   },
   "outputs": [],
   "source": [
    "print('start', start_time)\n",
    "print('finish', finish_time)\n",
    "print('duration', finish_time - start_time)"
   ]
  },
  {
   "cell_type": "code",
   "execution_count": null,
   "metadata": {
    "ExecuteTime": {
     "end_time": "2021-01-28T11:39:36.731585Z",
     "start_time": "2021-01-28T11:39:25.367Z"
    }
   },
   "outputs": [],
   "source": [
    "# Display statistics file\n",
    "from annotation_pipeline.utils import PipelineStats\n",
    "PipelineStats.get()"
   ]
  },
  {
   "cell_type": "code",
   "execution_count": null,
   "metadata": {
    "ExecuteTime": {
     "end_time": "2021-01-28T11:39:36.732089Z",
     "start_time": "2021-01-28T11:39:25.369Z"
    }
   },
   "outputs": [],
   "source": [
    "memory_usage_mb = psutil.Process(os.getpid()).memory_info().rss / 2**20\n",
    "print(f'Memory usage after: {memory_usage_mb:.0f}MB')"
   ]
  },
  {
   "cell_type": "markdown",
   "metadata": {},
   "source": [
    "# Get results\n",
    "Download result dataframe and images"
   ]
  },
  {
   "cell_type": "code",
   "execution_count": null,
   "metadata": {
    "ExecuteTime": {
     "end_time": "2021-01-28T11:39:36.732546Z",
     "start_time": "2021-01-28T11:39:25.371Z"
    },
    "scrolled": true
   },
   "outputs": [],
   "source": [
    "pipeline.save_results('output_dir')"
   ]
  },
  {
   "cell_type": "markdown",
   "metadata": {},
   "source": [
    "# Check results are correct\n",
    "\n",
    "This compares the generated annotations against results on https://metaspace2020.eu. For this to work, the dataset config file must have a `metaspace_id` parameter set."
   ]
  },
  {
   "cell_type": "code",
   "execution_count": null,
   "metadata": {
    "ExecuteTime": {
     "end_time": "2021-01-28T11:39:36.732979Z",
     "start_time": "2021-01-28T11:39:25.373Z"
    }
   },
   "outputs": [],
   "source": [
    "checked_results = pipeline.check_results()"
   ]
  },
  {
   "cell_type": "markdown",
   "metadata": {},
   "source": [
    "# Clean Temp Data"
   ]
  },
  {
   "cell_type": "code",
   "execution_count": null,
   "metadata": {
    "ExecuteTime": {
     "end_time": "2021-01-28T11:39:36.733575Z",
     "start_time": "2021-01-28T11:39:25.375Z"
    }
   },
   "outputs": [],
   "source": [
    "pipeline.clean()"
   ]
  },
  {
   "cell_type": "code",
   "execution_count": null,
   "metadata": {},
   "outputs": [],
   "source": []
  }
 ],
 "metadata": {
  "kernelspec": {
   "display_name": "Python 3",
   "language": "python",
   "name": "python3"
  },
  "language_info": {
   "codemirror_mode": {
    "name": "ipython",
    "version": 3
   },
   "file_extension": ".py",
   "mimetype": "text/x-python",
   "name": "python",
   "nbconvert_exporter": "python",
   "pygments_lexer": "ipython3",
   "version": "3.8.5"
  },
  "stem_cell": {
   "cell_type": "raw",
   "metadata": {
    "pycharm": {
     "metadata": false
    }
   },
   "source": ""
  },
  "toc": {
   "base_numbering": 1,
   "nav_menu": {},
   "number_sections": true,
   "sideBar": true,
   "skip_h1_title": false,
   "title_cell": "Table of Contents",
   "title_sidebar": "Contents",
   "toc_cell": false,
   "toc_position": {},
   "toc_section_display": true,
   "toc_window_display": false
  }
 },
 "nbformat": 4,
 "nbformat_minor": 4
}